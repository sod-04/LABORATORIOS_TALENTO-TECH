{
  "nbformat": 4,
  "nbformat_minor": 0,
  "metadata": {
    "colab": {
      "provenance": [],
      "authorship_tag": "ABX9TyNQCicsVZAe1QWYTnrUuA5W",
      "include_colab_link": true
    },
    "kernelspec": {
      "name": "python3",
      "display_name": "Python 3"
    },
    "language_info": {
      "name": "python"
    }
  },
  "cells": [
    {
      "cell_type": "markdown",
      "metadata": {
        "id": "view-in-github",
        "colab_type": "text"
      },
      "source": [
        "<a href=\"https://colab.research.google.com/github/sod-04/LABORATORIOS_TALENTO-TECH/blob/main/Laboratorio_9_SDOD.ipynb\" target=\"_parent\"><img src=\"https://colab.research.google.com/assets/colab-badge.svg\" alt=\"Open In Colab\"/></a>"
      ]
    },
    {
      "cell_type": "markdown",
      "source": [
        "#Parte 1"
      ],
      "metadata": {
        "id": "It0phnWj0Tjg"
      }
    },
    {
      "cell_type": "markdown",
      "source": [
        "**Ejercicio 1**\n",
        "- Identificar y contar los valores faltantes en cada columna."
      ],
      "metadata": {
        "id": "PygL6ZoWE8z2"
      }
    },
    {
      "cell_type": "code",
      "source": [
        "import pandas as pd\n",
        "from dateutil import parser\n",
        "\n",
        "#Datos originales\n",
        "\n",
        "data = {\n",
        "'Nombre':['Juan','Ana','Pedro','María','Luis','Ana'],\n",
        "'Edad': [28, 34, None, 45, 38, 34],\n",
        "'Salario': ['3000', '4000', 'cinco mil', '4500', '4000', '5000'],\n",
        "'Fecha_Ingreso': ['2021-01-15', '2020/03/12', '2022-07-01','2021/12/01','2021-05-20', '2020-03-12']\n",
        "}\n",
        "\n",
        "df = pd.DataFrame(data)\n",
        "\n",
        "#Identificar y contar valores faltantes\n",
        "print(\"Valores faltantes:\")\n",
        "print(df.isnull().sum())"
      ],
      "metadata": {
        "colab": {
          "base_uri": "https://localhost:8080/"
        },
        "id": "U_LsMW-aveeQ",
        "outputId": "3c5f6d79-4f53-473f-b119-ff3a395b9ddb"
      },
      "execution_count": 67,
      "outputs": [
        {
          "output_type": "stream",
          "name": "stdout",
          "text": [
            "Valores faltantes:\n",
            "Nombre           0\n",
            "Edad             1\n",
            "Salario          0\n",
            "Fecha_Ingreso    0\n",
            "dtype: int64\n"
          ]
        }
      ]
    },
    {
      "cell_type": "markdown",
      "source": [
        "- Verificar el formato de la columna 'Salario' para asegurar que todos los valores sean numéricos."
      ],
      "metadata": {
        "id": "VOPozoXJE-1b"
      }
    },
    {
      "cell_type": "code",
      "execution_count": 68,
      "metadata": {
        "colab": {
          "base_uri": "https://localhost:8080/"
        },
        "id": "r9-w7sry0QKL",
        "outputId": "4d8bdce6-f462-4a66-d0e0-7bde2c16a5f9"
      },
      "outputs": [
        {
          "output_type": "stream",
          "name": "stdout",
          "text": [
            "\n",
            "Formato incorrecto en 'Salario':\n",
            "  Nombre  Edad    Salario Fecha_Ingreso\n",
            "2  Pedro   NaN  cinco mil    2022-07-01\n"
          ]
        }
      ],
      "source": [
        "#Verificar formato de 'Salario'\n",
        "print(\"\\nFormato incorrecto en 'Salario':\")\n",
        "print(df[~df['Salario'].str.replace('[^0-9]', '',regex=True).str.isdigit()])\n"
      ]
    },
    {
      "cell_type": "markdown",
      "source": [
        "- Validar y estandarizar el formato de la columna 'Fecha Ingreso' a YYYY-MM-DD."
      ],
      "metadata": {
        "id": "Bz89wv8vFBlb"
      }
    },
    {
      "cell_type": "code",
      "source": [
        "#Función para convertir las fechas al formato YYYY-MM-DD\n",
        "\n",
        "def convertir_fecha (fecha):\n",
        "    try:\n",
        "        fecha_convertida = parser.parse(fecha)\n",
        "        return fecha_convertida.strftime('%Y-%m-%d')\n",
        "    except (parser.ParseError, TypeError, ValueError):\n",
        "        return None"
      ],
      "metadata": {
        "id": "ex3Sr8pMvncK"
      },
      "execution_count": 69,
      "outputs": []
    },
    {
      "cell_type": "code",
      "source": [
        "#Validar y estandarizar el formato de 'Fecha de ingreso'\n",
        "df['Fecha_Ingreso'] = df['Fecha_Ingreso'].apply(convertir_fecha)\n",
        "\n"
      ],
      "metadata": {
        "id": "g0uDvoLLvi3x"
      },
      "execution_count": 70,
      "outputs": []
    },
    {
      "cell_type": "code",
      "source": [
        "df['Fecha_Ingreso']"
      ],
      "metadata": {
        "colab": {
          "base_uri": "https://localhost:8080/",
          "height": 272
        },
        "id": "-q-fSyAj0wdI",
        "outputId": "b27c767a-cd37-44cb-d5c3-458b763f7624"
      },
      "execution_count": 71,
      "outputs": [
        {
          "output_type": "execute_result",
          "data": {
            "text/plain": [
              "0    2021-01-15\n",
              "1    2020-03-12\n",
              "2    2022-07-01\n",
              "3    2021-12-01\n",
              "4    2021-05-20\n",
              "5    2020-03-12\n",
              "Name: Fecha_Ingreso, dtype: object"
            ],
            "text/html": [
              "<div>\n",
              "<style scoped>\n",
              "    .dataframe tbody tr th:only-of-type {\n",
              "        vertical-align: middle;\n",
              "    }\n",
              "\n",
              "    .dataframe tbody tr th {\n",
              "        vertical-align: top;\n",
              "    }\n",
              "\n",
              "    .dataframe thead th {\n",
              "        text-align: right;\n",
              "    }\n",
              "</style>\n",
              "<table border=\"1\" class=\"dataframe\">\n",
              "  <thead>\n",
              "    <tr style=\"text-align: right;\">\n",
              "      <th></th>\n",
              "      <th>Fecha_Ingreso</th>\n",
              "    </tr>\n",
              "  </thead>\n",
              "  <tbody>\n",
              "    <tr>\n",
              "      <th>0</th>\n",
              "      <td>2021-01-15</td>\n",
              "    </tr>\n",
              "    <tr>\n",
              "      <th>1</th>\n",
              "      <td>2020-03-12</td>\n",
              "    </tr>\n",
              "    <tr>\n",
              "      <th>2</th>\n",
              "      <td>2022-07-01</td>\n",
              "    </tr>\n",
              "    <tr>\n",
              "      <th>3</th>\n",
              "      <td>2021-12-01</td>\n",
              "    </tr>\n",
              "    <tr>\n",
              "      <th>4</th>\n",
              "      <td>2021-05-20</td>\n",
              "    </tr>\n",
              "    <tr>\n",
              "      <th>5</th>\n",
              "      <td>2020-03-12</td>\n",
              "    </tr>\n",
              "  </tbody>\n",
              "</table>\n",
              "</div><br><label><b>dtype:</b> object</label>"
            ]
          },
          "metadata": {},
          "execution_count": 71
        }
      ]
    },
    {
      "cell_type": "code",
      "source": [
        "print(\"\\nDatos después de la validación y estandarización de 'Fecha_Ingreso':\")\n",
        "print(df)"
      ],
      "metadata": {
        "colab": {
          "base_uri": "https://localhost:8080/"
        },
        "id": "qGm5U7oD0rj6",
        "outputId": "400e0948-63e1-4f33-e7d0-dd35f485537c"
      },
      "execution_count": 72,
      "outputs": [
        {
          "output_type": "stream",
          "name": "stdout",
          "text": [
            "\n",
            "Datos después de la validación y estandarización de 'Fecha_Ingreso':\n",
            "  Nombre  Edad    Salario Fecha_Ingreso\n",
            "0   Juan  28.0       3000    2021-01-15\n",
            "1    Ana  34.0       4000    2020-03-12\n",
            "2  Pedro   NaN  cinco mil    2022-07-01\n",
            "3  María  45.0       4500    2021-12-01\n",
            "4   Luis  38.0       4000    2021-05-20\n",
            "5    Ana  34.0       5000    2020-03-12\n"
          ]
        }
      ]
    },
    {
      "cell_type": "markdown",
      "source": [
        "**Ejercicio 2**\n",
        "-\tIdentificar y contar los valores faltantes en cada columna."
      ],
      "metadata": {
        "id": "6yfoOXX0FKZs"
      }
    },
    {
      "cell_type": "code",
      "source": [
        "import pandas as pd\n",
        "from dateutil import parser\n",
        "from dateutil.parser import ParserError\n",
        "\n",
        "#Datos originales\n",
        "data = {\n",
        "    'Nombre':['Juan', 'Ana', 'Pedro', 'María', 'Luis', 'Carla'],\n",
        "    'Edad':[28, None, 40, 45, 38, 34],\n",
        "    'Salario':['3000', '4000', '4500', 'cuatro mil', '5000', '4000'],\n",
        "    'Cargo':['Analista', 'Gerente', 'Desarrollador', 'Gerente', 'Analista', None],\n",
        "    'Fecha_Ingreso':['2021-01-15', '2020/03/12', '2022-07-01', '2021/12/01', None, '2020-03-12']\n",
        "}\n",
        "\n",
        "df = pd.DataFrame(data)\n",
        "\n",
        "valores_faltantes = df.isnull().sum()\n",
        "print(\"Valores faltantes por columna:\")\n",
        "print(valores_faltantes)\n"
      ],
      "metadata": {
        "colab": {
          "base_uri": "https://localhost:8080/"
        },
        "id": "9qah9kU1FttZ",
        "outputId": "6fc4830b-15f9-41f3-95a9-568ef72fcfa1"
      },
      "execution_count": 73,
      "outputs": [
        {
          "output_type": "stream",
          "name": "stdout",
          "text": [
            "Valores faltantes por columna:\n",
            "Nombre           0\n",
            "Edad             1\n",
            "Salario          0\n",
            "Cargo            1\n",
            "Fecha_Ingreso    1\n",
            "dtype: int64\n"
          ]
        }
      ]
    },
    {
      "cell_type": "markdown",
      "source": [
        "- Verificar el formato de la columna \"Salario\" para asegurarse de que todos los valores sean numéricos."
      ],
      "metadata": {
        "id": "8uaAhC_0GPn1"
      }
    },
    {
      "cell_type": "code",
      "source": [
        "df['Salario']"
      ],
      "metadata": {
        "colab": {
          "base_uri": "https://localhost:8080/",
          "height": 272
        },
        "id": "9Y7_M4YfGXzo",
        "outputId": "89bc0e5b-133f-497b-ca0b-3be63922e5ea"
      },
      "execution_count": 74,
      "outputs": [
        {
          "output_type": "execute_result",
          "data": {
            "text/plain": [
              "0          3000\n",
              "1          4000\n",
              "2          4500\n",
              "3    cuatro mil\n",
              "4          5000\n",
              "5          4000\n",
              "Name: Salario, dtype: object"
            ],
            "text/html": [
              "<div>\n",
              "<style scoped>\n",
              "    .dataframe tbody tr th:only-of-type {\n",
              "        vertical-align: middle;\n",
              "    }\n",
              "\n",
              "    .dataframe tbody tr th {\n",
              "        vertical-align: top;\n",
              "    }\n",
              "\n",
              "    .dataframe thead th {\n",
              "        text-align: right;\n",
              "    }\n",
              "</style>\n",
              "<table border=\"1\" class=\"dataframe\">\n",
              "  <thead>\n",
              "    <tr style=\"text-align: right;\">\n",
              "      <th></th>\n",
              "      <th>Salario</th>\n",
              "    </tr>\n",
              "  </thead>\n",
              "  <tbody>\n",
              "    <tr>\n",
              "      <th>0</th>\n",
              "      <td>3000</td>\n",
              "    </tr>\n",
              "    <tr>\n",
              "      <th>1</th>\n",
              "      <td>4000</td>\n",
              "    </tr>\n",
              "    <tr>\n",
              "      <th>2</th>\n",
              "      <td>4500</td>\n",
              "    </tr>\n",
              "    <tr>\n",
              "      <th>3</th>\n",
              "      <td>cuatro mil</td>\n",
              "    </tr>\n",
              "    <tr>\n",
              "      <th>4</th>\n",
              "      <td>5000</td>\n",
              "    </tr>\n",
              "    <tr>\n",
              "      <th>5</th>\n",
              "      <td>4000</td>\n",
              "    </tr>\n",
              "  </tbody>\n",
              "</table>\n",
              "</div><br><label><b>dtype:</b> object</label>"
            ]
          },
          "metadata": {},
          "execution_count": 74
        }
      ]
    },
    {
      "cell_type": "code",
      "source": [
        "salarios_incorrectos = df[~df['Salario'].str.replace('[^0-9]', '', regex=True).str.isdigit()]\n",
        "print(\"\\nSalarios incorrectos:\")\n",
        "print(salarios_incorrectos)\n"
      ],
      "metadata": {
        "colab": {
          "base_uri": "https://localhost:8080/"
        },
        "id": "DtrnK7VoGT8F",
        "outputId": "8561603d-a653-44bf-95d5-23b619e3704b"
      },
      "execution_count": 75,
      "outputs": [
        {
          "output_type": "stream",
          "name": "stdout",
          "text": [
            "\n",
            "Salarios incorrectos:\n",
            "  Nombre  Edad     Salario    Cargo Fecha_Ingreso\n",
            "3  María  45.0  cuatro mil  Gerente    2021/12/01\n"
          ]
        }
      ]
    },
    {
      "cell_type": "markdown",
      "source": [
        "- Validar y estandarizar el formato de la columna \"FechaIngreso\" a YYYY-MM-DD."
      ],
      "metadata": {
        "id": "bfxCwH28Fxy4"
      }
    },
    {
      "cell_type": "code",
      "source": [
        "def normalizar_fecha(fecha):\n",
        "    try:\n",
        "        fecha_convertida = parser.parse(fecha)\n",
        "        return fecha_convertida.strftime('%Y-%m-%d')\n",
        "    except (parser.ParserError, TypeError, ValueError):\n",
        "        return None"
      ],
      "metadata": {
        "id": "7MXAxsEJZVcq"
      },
      "execution_count": 76,
      "outputs": []
    },
    {
      "cell_type": "code",
      "source": [
        "df['Fecha_Ingreso'] = df['Fecha_Ingreso'].apply(normalizar_fecha)\n",
        "\n",
        "print(\"\\nDatos después de la validación y estandarización de 'Fecha_Ingreso':\")\n",
        "print(df['Fecha_Ingreso'])"
      ],
      "metadata": {
        "colab": {
          "base_uri": "https://localhost:8080/"
        },
        "id": "MJqByQ-AHkG0",
        "outputId": "1f4a6e57-7fb8-4589-ff6f-2abcef3230e0"
      },
      "execution_count": 77,
      "outputs": [
        {
          "output_type": "stream",
          "name": "stdout",
          "text": [
            "\n",
            "Datos después de la validación y estandarización de 'Fecha_Ingreso':\n",
            "0    2021-01-15\n",
            "1    2020-03-12\n",
            "2    2022-07-01\n",
            "3    2021-12-01\n",
            "4          None\n",
            "5    2020-03-12\n",
            "Name: Fecha_Ingreso, dtype: object\n"
          ]
        }
      ]
    },
    {
      "cell_type": "markdown",
      "source": [
        "- Verificar que no haya valores faltantes en la columna \"Cargo\"."
      ],
      "metadata": {
        "id": "lmzvUX32HX3R"
      }
    },
    {
      "cell_type": "code",
      "source": [
        "Cargo_faltante = df[df['Cargo'].isnull()]\n",
        "print(\"\\nCargos faltantes:\")\n",
        "print(Cargo_faltante)\n",
        "\n",
        "print(\"\\nDatos después de la validación:\")\n",
        "print(df)\n",
        "(valores_faltantes, salarios_incorrectos)"
      ],
      "metadata": {
        "id": "sPzhJlkTHbgr",
        "colab": {
          "base_uri": "https://localhost:8080/"
        },
        "outputId": "21a79803-404a-4fd8-a7b8-557b65358892"
      },
      "execution_count": 79,
      "outputs": [
        {
          "output_type": "stream",
          "name": "stdout",
          "text": [
            "\n",
            "Cargos faltantes:\n",
            "  Nombre  Edad Salario Cargo Fecha_Ingreso\n",
            "5  Carla  34.0    4000  None    2020-03-12\n",
            "\n",
            "Datos después de la validación:\n",
            "  Nombre  Edad     Salario          Cargo Fecha_Ingreso\n",
            "0   Juan  28.0        3000       Analista    2021-01-15\n",
            "1    Ana   NaN        4000        Gerente    2020-03-12\n",
            "2  Pedro  40.0        4500  Desarrollador    2022-07-01\n",
            "3  María  45.0  cuatro mil        Gerente    2021-12-01\n",
            "4   Luis  38.0        5000       Analista          None\n",
            "5  Carla  34.0        4000           None    2020-03-12\n"
          ]
        },
        {
          "output_type": "execute_result",
          "data": {
            "text/plain": [
              "(Nombre           0\n",
              " Edad             1\n",
              " Salario          0\n",
              " Cargo            1\n",
              " Fecha_Ingreso    1\n",
              " dtype: int64,\n",
              "   Nombre  Edad     Salario    Cargo Fecha_Ingreso\n",
              " 3  María  45.0  cuatro mil  Gerente    2021/12/01)"
            ]
          },
          "metadata": {},
          "execution_count": 79
        }
      ]
    },
    {
      "cell_type": "markdown",
      "source": [
        "#Parte 2"
      ],
      "metadata": {
        "id": "X1tCrPm7kf8c"
      }
    },
    {
      "cell_type": "markdown",
      "source": [
        "- Validar los datos y mostrar los productos con precios inválidos."
      ],
      "metadata": {
        "id": "6h9Eu7LVafcP"
      }
    },
    {
      "cell_type": "code",
      "source": [
        "import pandas as pd\n",
        "\n",
        "datos = {'Producto':['Producto A', 'Producto B', 'Producto C', 'Producto D'],\n",
        "         'Precio':[150,-25,100,None]}\n",
        "df = pd.DataFrame(datos)\n",
        "\n",
        "df['Validación precio'] = df['Precio'].apply(lambda x:'Valido' if pd.notnull(x) and x >=0 else 'invalido')\n",
        "\n",
        "df_invalidos = df[df['Validación precio'] == 'invalido']\n",
        "\n",
        "display(df_invalidos)"
      ],
      "metadata": {
        "colab": {
          "base_uri": "https://localhost:8080/",
          "height": 125
        },
        "id": "W65FzzuDkiUM",
        "outputId": "51aec328-266c-43dd-83a7-1100e53367c0"
      },
      "execution_count": 80,
      "outputs": [
        {
          "output_type": "display_data",
          "data": {
            "text/plain": [
              "     Producto  Precio Validación precio\n",
              "1  Producto B   -25.0          invalido\n",
              "3  Producto D     NaN          invalido"
            ],
            "text/html": [
              "\n",
              "  <div id=\"df-0e495e11-c31c-4e50-bf51-37536ba97e40\" class=\"colab-df-container\">\n",
              "    <div>\n",
              "<style scoped>\n",
              "    .dataframe tbody tr th:only-of-type {\n",
              "        vertical-align: middle;\n",
              "    }\n",
              "\n",
              "    .dataframe tbody tr th {\n",
              "        vertical-align: top;\n",
              "    }\n",
              "\n",
              "    .dataframe thead th {\n",
              "        text-align: right;\n",
              "    }\n",
              "</style>\n",
              "<table border=\"1\" class=\"dataframe\">\n",
              "  <thead>\n",
              "    <tr style=\"text-align: right;\">\n",
              "      <th></th>\n",
              "      <th>Producto</th>\n",
              "      <th>Precio</th>\n",
              "      <th>Validación precio</th>\n",
              "    </tr>\n",
              "  </thead>\n",
              "  <tbody>\n",
              "    <tr>\n",
              "      <th>1</th>\n",
              "      <td>Producto B</td>\n",
              "      <td>-25.0</td>\n",
              "      <td>invalido</td>\n",
              "    </tr>\n",
              "    <tr>\n",
              "      <th>3</th>\n",
              "      <td>Producto D</td>\n",
              "      <td>NaN</td>\n",
              "      <td>invalido</td>\n",
              "    </tr>\n",
              "  </tbody>\n",
              "</table>\n",
              "</div>\n",
              "    <div class=\"colab-df-buttons\">\n",
              "\n",
              "  <div class=\"colab-df-container\">\n",
              "    <button class=\"colab-df-convert\" onclick=\"convertToInteractive('df-0e495e11-c31c-4e50-bf51-37536ba97e40')\"\n",
              "            title=\"Convert this dataframe to an interactive table.\"\n",
              "            style=\"display:none;\">\n",
              "\n",
              "  <svg xmlns=\"http://www.w3.org/2000/svg\" height=\"24px\" viewBox=\"0 -960 960 960\">\n",
              "    <path d=\"M120-120v-720h720v720H120Zm60-500h600v-160H180v160Zm220 220h160v-160H400v160Zm0 220h160v-160H400v160ZM180-400h160v-160H180v160Zm440 0h160v-160H620v160ZM180-180h160v-160H180v160Zm440 0h160v-160H620v160Z\"/>\n",
              "  </svg>\n",
              "    </button>\n",
              "\n",
              "  <style>\n",
              "    .colab-df-container {\n",
              "      display:flex;\n",
              "      gap: 12px;\n",
              "    }\n",
              "\n",
              "    .colab-df-convert {\n",
              "      background-color: #E8F0FE;\n",
              "      border: none;\n",
              "      border-radius: 50%;\n",
              "      cursor: pointer;\n",
              "      display: none;\n",
              "      fill: #1967D2;\n",
              "      height: 32px;\n",
              "      padding: 0 0 0 0;\n",
              "      width: 32px;\n",
              "    }\n",
              "\n",
              "    .colab-df-convert:hover {\n",
              "      background-color: #E2EBFA;\n",
              "      box-shadow: 0px 1px 2px rgba(60, 64, 67, 0.3), 0px 1px 3px 1px rgba(60, 64, 67, 0.15);\n",
              "      fill: #174EA6;\n",
              "    }\n",
              "\n",
              "    .colab-df-buttons div {\n",
              "      margin-bottom: 4px;\n",
              "    }\n",
              "\n",
              "    [theme=dark] .colab-df-convert {\n",
              "      background-color: #3B4455;\n",
              "      fill: #D2E3FC;\n",
              "    }\n",
              "\n",
              "    [theme=dark] .colab-df-convert:hover {\n",
              "      background-color: #434B5C;\n",
              "      box-shadow: 0px 1px 3px 1px rgba(0, 0, 0, 0.15);\n",
              "      filter: drop-shadow(0px 1px 2px rgba(0, 0, 0, 0.3));\n",
              "      fill: #FFFFFF;\n",
              "    }\n",
              "  </style>\n",
              "\n",
              "    <script>\n",
              "      const buttonEl =\n",
              "        document.querySelector('#df-0e495e11-c31c-4e50-bf51-37536ba97e40 button.colab-df-convert');\n",
              "      buttonEl.style.display =\n",
              "        google.colab.kernel.accessAllowed ? 'block' : 'none';\n",
              "\n",
              "      async function convertToInteractive(key) {\n",
              "        const element = document.querySelector('#df-0e495e11-c31c-4e50-bf51-37536ba97e40');\n",
              "        const dataTable =\n",
              "          await google.colab.kernel.invokeFunction('convertToInteractive',\n",
              "                                                    [key], {});\n",
              "        if (!dataTable) return;\n",
              "\n",
              "        const docLinkHtml = 'Like what you see? Visit the ' +\n",
              "          '<a target=\"_blank\" href=https://colab.research.google.com/notebooks/data_table.ipynb>data table notebook</a>'\n",
              "          + ' to learn more about interactive tables.';\n",
              "        element.innerHTML = '';\n",
              "        dataTable['output_type'] = 'display_data';\n",
              "        await google.colab.output.renderOutput(dataTable, element);\n",
              "        const docLink = document.createElement('div');\n",
              "        docLink.innerHTML = docLinkHtml;\n",
              "        element.appendChild(docLink);\n",
              "      }\n",
              "    </script>\n",
              "  </div>\n",
              "\n",
              "\n",
              "<div id=\"df-19d36e9b-e3ac-4ab1-bdfa-a77caede4a4e\">\n",
              "  <button class=\"colab-df-quickchart\" onclick=\"quickchart('df-19d36e9b-e3ac-4ab1-bdfa-a77caede4a4e')\"\n",
              "            title=\"Suggest charts\"\n",
              "            style=\"display:none;\">\n",
              "\n",
              "<svg xmlns=\"http://www.w3.org/2000/svg\" height=\"24px\"viewBox=\"0 0 24 24\"\n",
              "     width=\"24px\">\n",
              "    <g>\n",
              "        <path d=\"M19 3H5c-1.1 0-2 .9-2 2v14c0 1.1.9 2 2 2h14c1.1 0 2-.9 2-2V5c0-1.1-.9-2-2-2zM9 17H7v-7h2v7zm4 0h-2V7h2v10zm4 0h-2v-4h2v4z\"/>\n",
              "    </g>\n",
              "</svg>\n",
              "  </button>\n",
              "\n",
              "<style>\n",
              "  .colab-df-quickchart {\n",
              "      --bg-color: #E8F0FE;\n",
              "      --fill-color: #1967D2;\n",
              "      --hover-bg-color: #E2EBFA;\n",
              "      --hover-fill-color: #174EA6;\n",
              "      --disabled-fill-color: #AAA;\n",
              "      --disabled-bg-color: #DDD;\n",
              "  }\n",
              "\n",
              "  [theme=dark] .colab-df-quickchart {\n",
              "      --bg-color: #3B4455;\n",
              "      --fill-color: #D2E3FC;\n",
              "      --hover-bg-color: #434B5C;\n",
              "      --hover-fill-color: #FFFFFF;\n",
              "      --disabled-bg-color: #3B4455;\n",
              "      --disabled-fill-color: #666;\n",
              "  }\n",
              "\n",
              "  .colab-df-quickchart {\n",
              "    background-color: var(--bg-color);\n",
              "    border: none;\n",
              "    border-radius: 50%;\n",
              "    cursor: pointer;\n",
              "    display: none;\n",
              "    fill: var(--fill-color);\n",
              "    height: 32px;\n",
              "    padding: 0;\n",
              "    width: 32px;\n",
              "  }\n",
              "\n",
              "  .colab-df-quickchart:hover {\n",
              "    background-color: var(--hover-bg-color);\n",
              "    box-shadow: 0 1px 2px rgba(60, 64, 67, 0.3), 0 1px 3px 1px rgba(60, 64, 67, 0.15);\n",
              "    fill: var(--button-hover-fill-color);\n",
              "  }\n",
              "\n",
              "  .colab-df-quickchart-complete:disabled,\n",
              "  .colab-df-quickchart-complete:disabled:hover {\n",
              "    background-color: var(--disabled-bg-color);\n",
              "    fill: var(--disabled-fill-color);\n",
              "    box-shadow: none;\n",
              "  }\n",
              "\n",
              "  .colab-df-spinner {\n",
              "    border: 2px solid var(--fill-color);\n",
              "    border-color: transparent;\n",
              "    border-bottom-color: var(--fill-color);\n",
              "    animation:\n",
              "      spin 1s steps(1) infinite;\n",
              "  }\n",
              "\n",
              "  @keyframes spin {\n",
              "    0% {\n",
              "      border-color: transparent;\n",
              "      border-bottom-color: var(--fill-color);\n",
              "      border-left-color: var(--fill-color);\n",
              "    }\n",
              "    20% {\n",
              "      border-color: transparent;\n",
              "      border-left-color: var(--fill-color);\n",
              "      border-top-color: var(--fill-color);\n",
              "    }\n",
              "    30% {\n",
              "      border-color: transparent;\n",
              "      border-left-color: var(--fill-color);\n",
              "      border-top-color: var(--fill-color);\n",
              "      border-right-color: var(--fill-color);\n",
              "    }\n",
              "    40% {\n",
              "      border-color: transparent;\n",
              "      border-right-color: var(--fill-color);\n",
              "      border-top-color: var(--fill-color);\n",
              "    }\n",
              "    60% {\n",
              "      border-color: transparent;\n",
              "      border-right-color: var(--fill-color);\n",
              "    }\n",
              "    80% {\n",
              "      border-color: transparent;\n",
              "      border-right-color: var(--fill-color);\n",
              "      border-bottom-color: var(--fill-color);\n",
              "    }\n",
              "    90% {\n",
              "      border-color: transparent;\n",
              "      border-bottom-color: var(--fill-color);\n",
              "    }\n",
              "  }\n",
              "</style>\n",
              "\n",
              "  <script>\n",
              "    async function quickchart(key) {\n",
              "      const quickchartButtonEl =\n",
              "        document.querySelector('#' + key + ' button');\n",
              "      quickchartButtonEl.disabled = true;  // To prevent multiple clicks.\n",
              "      quickchartButtonEl.classList.add('colab-df-spinner');\n",
              "      try {\n",
              "        const charts = await google.colab.kernel.invokeFunction(\n",
              "            'suggestCharts', [key], {});\n",
              "      } catch (error) {\n",
              "        console.error('Error during call to suggestCharts:', error);\n",
              "      }\n",
              "      quickchartButtonEl.classList.remove('colab-df-spinner');\n",
              "      quickchartButtonEl.classList.add('colab-df-quickchart-complete');\n",
              "    }\n",
              "    (() => {\n",
              "      let quickchartButtonEl =\n",
              "        document.querySelector('#df-19d36e9b-e3ac-4ab1-bdfa-a77caede4a4e button');\n",
              "      quickchartButtonEl.style.display =\n",
              "        google.colab.kernel.accessAllowed ? 'block' : 'none';\n",
              "    })();\n",
              "  </script>\n",
              "</div>\n",
              "\n",
              "  <div id=\"id_a99e5a88-0d47-4250-9566-76ff85828bcf\">\n",
              "    <style>\n",
              "      .colab-df-generate {\n",
              "        background-color: #E8F0FE;\n",
              "        border: none;\n",
              "        border-radius: 50%;\n",
              "        cursor: pointer;\n",
              "        display: none;\n",
              "        fill: #1967D2;\n",
              "        height: 32px;\n",
              "        padding: 0 0 0 0;\n",
              "        width: 32px;\n",
              "      }\n",
              "\n",
              "      .colab-df-generate:hover {\n",
              "        background-color: #E2EBFA;\n",
              "        box-shadow: 0px 1px 2px rgba(60, 64, 67, 0.3), 0px 1px 3px 1px rgba(60, 64, 67, 0.15);\n",
              "        fill: #174EA6;\n",
              "      }\n",
              "\n",
              "      [theme=dark] .colab-df-generate {\n",
              "        background-color: #3B4455;\n",
              "        fill: #D2E3FC;\n",
              "      }\n",
              "\n",
              "      [theme=dark] .colab-df-generate:hover {\n",
              "        background-color: #434B5C;\n",
              "        box-shadow: 0px 1px 3px 1px rgba(0, 0, 0, 0.15);\n",
              "        filter: drop-shadow(0px 1px 2px rgba(0, 0, 0, 0.3));\n",
              "        fill: #FFFFFF;\n",
              "      }\n",
              "    </style>\n",
              "    <button class=\"colab-df-generate\" onclick=\"generateWithVariable('df_invalidos')\"\n",
              "            title=\"Generate code using this dataframe.\"\n",
              "            style=\"display:none;\">\n",
              "\n",
              "  <svg xmlns=\"http://www.w3.org/2000/svg\" height=\"24px\"viewBox=\"0 0 24 24\"\n",
              "       width=\"24px\">\n",
              "    <path d=\"M7,19H8.4L18.45,9,17,7.55,7,17.6ZM5,21V16.75L18.45,3.32a2,2,0,0,1,2.83,0l1.4,1.43a1.91,1.91,0,0,1,.58,1.4,1.91,1.91,0,0,1-.58,1.4L9.25,21ZM18.45,9,17,7.55Zm-12,3A5.31,5.31,0,0,0,4.9,8.1,5.31,5.31,0,0,0,1,6.5,5.31,5.31,0,0,0,4.9,4.9,5.31,5.31,0,0,0,6.5,1,5.31,5.31,0,0,0,8.1,4.9,5.31,5.31,0,0,0,12,6.5,5.46,5.46,0,0,0,6.5,12Z\"/>\n",
              "  </svg>\n",
              "    </button>\n",
              "    <script>\n",
              "      (() => {\n",
              "      const buttonEl =\n",
              "        document.querySelector('#id_a99e5a88-0d47-4250-9566-76ff85828bcf button.colab-df-generate');\n",
              "      buttonEl.style.display =\n",
              "        google.colab.kernel.accessAllowed ? 'block' : 'none';\n",
              "\n",
              "      buttonEl.onclick = () => {\n",
              "        google.colab.notebook.generateWithVariable('df_invalidos');\n",
              "      }\n",
              "      })();\n",
              "    </script>\n",
              "  </div>\n",
              "\n",
              "    </div>\n",
              "  </div>\n"
            ],
            "application/vnd.google.colaboratory.intrinsic+json": {
              "type": "dataframe",
              "variable_name": "df_invalidos",
              "summary": "{\n  \"name\": \"df_invalidos\",\n  \"rows\": 2,\n  \"fields\": [\n    {\n      \"column\": \"Producto\",\n      \"properties\": {\n        \"dtype\": \"string\",\n        \"num_unique_values\": 2,\n        \"samples\": [\n          \"Producto D\",\n          \"Producto B\"\n        ],\n        \"semantic_type\": \"\",\n        \"description\": \"\"\n      }\n    },\n    {\n      \"column\": \"Precio\",\n      \"properties\": {\n        \"dtype\": \"number\",\n        \"std\": null,\n        \"min\": -25.0,\n        \"max\": -25.0,\n        \"num_unique_values\": 1,\n        \"samples\": [\n          -25.0\n        ],\n        \"semantic_type\": \"\",\n        \"description\": \"\"\n      }\n    },\n    {\n      \"column\": \"Validaci\\u00f3n precio\",\n      \"properties\": {\n        \"dtype\": \"string\",\n        \"num_unique_values\": 1,\n        \"samples\": [\n          \"invalido\"\n        ],\n        \"semantic_type\": \"\",\n        \"description\": \"\"\n      }\n    }\n  ]\n}"
            }
          },
          "metadata": {}
        }
      ]
    },
    {
      "cell_type": "markdown",
      "source": [
        "- Validar los datos duplicados."
      ],
      "metadata": {
        "id": "n1RK9FNhalhH"
      }
    },
    {
      "cell_type": "code",
      "source": [
        "import pandas as pd\n",
        "\n",
        "clientes = {'ID Cliente':[1, 2, 3, 2, 4],\n",
        "            'Nombre':['Ana', 'Luis', 'María', 'Luis', 'Carlos']\n",
        "}\n",
        "\n",
        "df_clientes = pd.DataFrame(clientes)\n",
        "\n",
        "duplicados = df_clientes[df_clientes.duplicated('ID Cliente', keep=False)]\n",
        "\n",
        "print(duplicados)"
      ],
      "metadata": {
        "colab": {
          "base_uri": "https://localhost:8080/"
        },
        "id": "ZxCAt5dsd-Dy",
        "outputId": "cef29634-deb6-4203-e35d-ee9daabab5e6"
      },
      "execution_count": 81,
      "outputs": [
        {
          "output_type": "stream",
          "name": "stdout",
          "text": [
            "   ID Cliente Nombre\n",
            "1           2   Luis\n",
            "3           2   Luis\n"
          ]
        }
      ]
    },
    {
      "cell_type": "markdown",
      "source": [
        "- Encriptación y Desencriptación de Datos Sensibles"
      ],
      "metadata": {
        "id": "jNvJvqZPatC_"
      }
    },
    {
      "cell_type": "code",
      "source": [
        "from cryptography.fernet import Fernet\n",
        "\n",
        "#Generar clave de encriptación\n",
        "\n",
        "key = Fernet.generate_key()\n",
        "cipher_suite = Fernet(key)\n",
        "\n",
        "#Datos sensibles (Número de tarjeta)\n",
        "\n",
        "datos_sensibles = \"1234-5678-9101- 1121\".encode()\n",
        "\n",
        "#Encriptar los datos\n",
        "\n",
        "datos_encriptados = cipher_suite.encrypt(datos_sensibles)\n",
        "\n",
        "#Desencriptar los datos\n",
        "\n",
        "datos_desencriptados = cipher_suite.decrypt(datos_encriptados)\n",
        "\n",
        "#Mostrar ambos resultados\n",
        "\n",
        "resultados_encriptacion = {\n",
        "    'Datos Encriptados' : datos_encriptados,\n",
        "    'Datos Desencriptados' : datos_desencriptados\n",
        "}\n",
        "\n",
        "resultados_encriptacion"
      ],
      "metadata": {
        "colab": {
          "base_uri": "https://localhost:8080/"
        },
        "id": "Rapek0eXj9Ay",
        "outputId": "c19b55de-096b-40d1-8201-dc8c6ad877a1"
      },
      "execution_count": 82,
      "outputs": [
        {
          "output_type": "execute_result",
          "data": {
            "text/plain": [
              "{'Datos Encriptados': b'gAAAAABnQODVEcj3q_flfG-_lKLGdod_xxyJlCcHHRRYf7dvmTobPd9y5q0Dso5DTDyu1rsZQPSnYFMSlYWf-0QcwcbFzgiQvbpOXg7kPuxPj23OmXkhg5U=',\n",
              " 'Datos Desencriptados': b'1234-5678-9101- 1121'}"
            ]
          },
          "metadata": {},
          "execution_count": 82
        }
      ]
    }
  ]
}