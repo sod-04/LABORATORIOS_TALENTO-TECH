{
  "nbformat": 4,
  "nbformat_minor": 0,
  "metadata": {
    "colab": {
      "provenance": [],
      "authorship_tag": "ABX9TyPXyn/HPW/1NsyCN5mAhsJj",
      "include_colab_link": true
    },
    "kernelspec": {
      "name": "python3",
      "display_name": "Python 3"
    },
    "language_info": {
      "name": "python"
    }
  },
  "cells": [
    {
      "cell_type": "markdown",
      "metadata": {
        "id": "view-in-github",
        "colab_type": "text"
      },
      "source": [
        "<a href=\"https://colab.research.google.com/github/sod-04/LABORATORIOS_TALENTO-TECH/blob/main/Laboratorio_6_parte_2_SDOD.ipynb\" target=\"_parent\"><img src=\"https://colab.research.google.com/assets/colab-badge.svg\" alt=\"Open In Colab\"/></a>"
      ]
    },
    {
      "cell_type": "markdown",
      "source": [
        "#Pasos para preparar un té\n",
        "\n",
        "- Preguntar al usuario si desea su té con endulzante\n",
        "- Proporcionar el paso a paso según su respuesta:\n",
        "    - Paso 1: Hervir agua\n",
        "    - Paso 2: Colocar la bolsa de té en un vaso\n",
        "    - Paso 3: Servir el agua en el vaso\n",
        "    - Paso 4: Esperar unos minutos\n",
        "    - (Opcional): Agregar endulzante de preferencia y revolver\n",
        "    - Paso 5: Disfrutar del té"
      ],
      "metadata": {
        "id": "nzRXYnFAf4R2"
      }
    },
    {
      "cell_type": "code",
      "execution_count": null,
      "metadata": {
        "id": "4aP0b1bkczD6"
      },
      "outputs": [],
      "source": [
        "#Algoritmo para preparar un té\n",
        "\n",
        "def preparar_te():\n",
        "\n",
        "    respuesta = input(\"¿Te gustaría agregar endulzante a tu té? (Escribe si/no)\")\n",
        "\n",
        "#\n",
        "    if respuesta not in [\"si\", \"no\"]:\n",
        "        print(\"Respuesta no válida. Por favor, escribe si o no.\")\n",
        "        return\n",
        "\n",
        "#Instrucciones para preparar el té\n",
        "    print(\"1. Calienta el agua.\")\n",
        "    print(\"2. Coloca la bolsa de té en la taza.\")\n",
        "    print(\"3. Vierte el agua caliente en la taza.\")\n",
        "    print(\"4. Deja reposar por unos minutos.\")\n",
        "    print(\"5. Retira la bolsa de té.\")\n",
        "\n",
        "\n",
        "    if respuesta == \"si\":\n",
        "        print(\"Agrega el endulzante de tu preferencia y ¡Disfruta de tu té!\")\n",
        "    else:\n",
        "        print(\"¡Disfruta de tu té!\")\n",
        "\n",
        "\n",
        "preparar_te()\n",
        "\n"
      ]
    },
    {
      "cell_type": "markdown",
      "source": [
        "#Calcular el promedio de notas de un estudiante:\n",
        "\n",
        "- Solicitar las notas del estudiante\n",
        "- Sumar las notas\n",
        "- Dividir el resultado entre el número de notas sumadas\n",
        "- Proporcionar el promedio al usuario"
      ],
      "metadata": {
        "id": "omB98iFwxgtb"
      }
    },
    {
      "cell_type": "code",
      "source": [
        "#Calcular promedio de notas:\n",
        "\n",
        "#Variables de las notas\n",
        "nota1 = 3.5\n",
        "nota2 = 4.6\n",
        "nota3 = 4.8\n",
        "\n",
        "#Calculo del promedio\n",
        "\n",
        "promedio =(nota1 + nota2 + nota3)/3\n",
        "\n",
        "#Proporcionar el resultado\n",
        "\n",
        "print(\"El promedio de tu nota es:\", promedio)"
      ],
      "metadata": {
        "id": "58GZM6mcwaod",
        "colab": {
          "base_uri": "https://localhost:8080/"
        },
        "outputId": "f1485c39-a909-45fa-ca44-244367c2b766"
      },
      "execution_count": null,
      "outputs": [
        {
          "output_type": "stream",
          "name": "stdout",
          "text": [
            "El promedio de tu nota es: 4.3\n"
          ]
        }
      ]
    },
    {
      "cell_type": "markdown",
      "source": [
        "#Verificar si un número es par o impar:\n",
        "\n",
        "- Solicitar el número al usuario\n",
        "- Verificar si el número es par o impar\n",
        "- Proporcionar una respuesta al usuario"
      ],
      "metadata": {
        "id": "eDYKx5OmymaM"
      }
    },
    {
      "cell_type": "code",
      "source": [
        "\n",
        "#Solicitar el número al usuario:\n",
        "\n",
        "numero = int(input(\"Ingresa un número: \"))\n",
        "\n",
        "#Verificar si el número es par o impar:\n",
        "\n",
        "if numero % 2 == 0:\n",
        "    print(\"El número es par.\")\n",
        "else:\n",
        "    print(\"El número es impar.\")"
      ],
      "metadata": {
        "id": "jkMFmvXTySUg",
        "colab": {
          "base_uri": "https://localhost:8080/"
        },
        "outputId": "cad361a2-d8ec-4741-879b-1edd980dbfb7"
      },
      "execution_count": null,
      "outputs": [
        {
          "output_type": "stream",
          "name": "stdout",
          "text": [
            "Ingresa un número: 5\n",
            "El número es impar.\n"
          ]
        }
      ]
    },
    {
      "cell_type": "markdown",
      "source": [
        "#Bucle for para imprimir números del 1 al 5"
      ],
      "metadata": {
        "id": "VxI0d-s7zeB9"
      }
    },
    {
      "cell_type": "code",
      "source": [
        "#Bucle for para imprimir números del 1 al 5\n",
        "\n",
        "for num in range(1, 5):\n",
        "    if num % 2 == 0:\n",
        "        print(f\"{num} es par.\")\n",
        "    else:\n",
        "        print(f\"{num} es impar.\")"
      ],
      "metadata": {
        "colab": {
          "base_uri": "https://localhost:8080/"
        },
        "id": "-rnO4dQFzlVV",
        "outputId": "a79dddb4-8f7c-4ed6-ae65-0fa7ca6b6f60"
      },
      "execution_count": null,
      "outputs": [
        {
          "output_type": "stream",
          "name": "stdout",
          "text": [
            "1 es impar.\n",
            "2 es par.\n",
            "3 es impar.\n",
            "4 es par.\n"
          ]
        }
      ]
    },
    {
      "cell_type": "markdown",
      "source": [
        "#Convertir Grados Celsius a Fahrenheit\n",
        "\n",
        "- Crear una variable\n",
        "- Solicitar los grados Celsius al usuario\n",
        "- Validar la información proporcionada por el usuario\n",
        "- Proporcionar el resultado al usuario"
      ],
      "metadata": {
        "id": "-5rgRu7CE4Nw"
      }
    },
    {
      "cell_type": "code",
      "source": [
        "#Creación de la variable\n",
        "temp_celsius = 0.0\n",
        "#Solicitud de los grados Celsius al usuario\n",
        "dato_usuario = input(\"Ingresa la temperatura en grados Celsius: \")\n",
        "temp_celsius = float(dato_usuario)\n",
        "grados_fahrenheit = (temp_celsius * 9/5) + 32\n",
        "#Proporción de resultado al usuario\n",
        "print(\"La temperatura en grados Fahrenheit es:\", grados_fahrenheit)\n",
        "\n"
      ],
      "metadata": {
        "id": "JMEvH_AOEg56"
      },
      "execution_count": null,
      "outputs": []
    },
    {
      "cell_type": "markdown",
      "source": [
        "#Contar la cantidad de vocales en una cadena de texto\n",
        "\n",
        "- Solicitar la cadena de texto al usuario\n",
        "- Contar la cantidad de vocales\n",
        "- Proporcionar el resultado al usuario\n"
      ],
      "metadata": {
        "id": "hWNELsgRpFcj"
      }
    },
    {
      "cell_type": "code",
      "source": [
        "#Solicitud de la cadena de texto\n",
        "texto = input (\"Ingrese una frase: \")\n",
        "\n",
        "#Contador de vocales\n",
        "contador_vocales = 0\n",
        "\n",
        "#Recorrido de cada carácter en el texto proporcionado\n",
        "for letra in texto.lower():\n",
        "    if letra in \"aeiouAEIOU\":\n",
        "        contador_vocales += 1\n",
        "\n",
        "#Resultado mostrado al usuario\n",
        "print(f\"La frase contiene {contador_vocales} vocales en total\")\n"
      ],
      "metadata": {
        "colab": {
          "base_uri": "https://localhost:8080/"
        },
        "id": "dBB6umvIo0XH",
        "outputId": "26520963-d803-4d49-9f52-90deff4cfbd5"
      },
      "execution_count": null,
      "outputs": [
        {
          "output_type": "stream",
          "name": "stdout",
          "text": [
            "Ingrese una frase: Hola, como estas?\n",
            "La frase contiene 6 vocales en total\n"
          ]
        }
      ]
    },
    {
      "cell_type": "markdown",
      "source": [
        "#Calcular el factorial de un número:\n",
        "\n",
        "- Solicitar el número al usuario\n",
        "- Iniciar el resultado en 1\n",
        "- Utilizar un bucle while para multiplicar los números hasta llegar a 1\n",
        "- Mostrar el resultado"
      ],
      "metadata": {
        "id": "5WLh6biLrLln"
      }
    },
    {
      "cell_type": "code",
      "source": [
        "#Pedir el número al usuario\n",
        "numero = int(input(\"Ingresar un número para calcular su factorial: \"))\n",
        "\n",
        "#Inicio del factorial en 1\n",
        "factorial = 1\n",
        "contador = numero\n",
        "\n",
        "#Calculo del factorial usando el bucle while\n",
        "while contador > 1:\n",
        "    factorial *= contador\n",
        "    contador -= 1\n",
        "\n",
        "#Mostrar el resultado\n",
        "print(f\"El factorial de {numero} es {factorial}\")"
      ],
      "metadata": {
        "id": "waYbpDuvrmD_",
        "colab": {
          "base_uri": "https://localhost:8080/"
        },
        "outputId": "eb45c8f0-ff79-4dd5-d8e3-8b8d4c338a70"
      },
      "execution_count": null,
      "outputs": [
        {
          "output_type": "stream",
          "name": "stdout",
          "text": [
            "Ingresar un número para calcular su factorial: 5\n",
            "El factorial de 5 es 120\n"
          ]
        }
      ]
    }
  ]
}