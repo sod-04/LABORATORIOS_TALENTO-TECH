{
  "nbformat": 4,
  "nbformat_minor": 0,
  "metadata": {
    "colab": {
      "provenance": [],
      "authorship_tag": "ABX9TyMhIo4eW7ylIhnGX+UYZ5vO",
      "include_colab_link": true
    },
    "kernelspec": {
      "name": "python3",
      "display_name": "Python 3"
    },
    "language_info": {
      "name": "python"
    }
  },
  "cells": [
    {
      "cell_type": "markdown",
      "metadata": {
        "id": "view-in-github",
        "colab_type": "text"
      },
      "source": [
        "<a href=\"https://colab.research.google.com/github/sod-04/LABORATORIOS_TALENTO-TECH/blob/main/Laboratorio_7_SDOD.ipynb\" target=\"_parent\"><img src=\"https://colab.research.google.com/assets/colab-badge.svg\" alt=\"Open In Colab\"/></a>"
      ]
    },
    {
      "cell_type": "markdown",
      "source": [
        "#Parte 1"
      ],
      "metadata": {
        "id": "WOwACM4kQxsX"
      }
    },
    {
      "cell_type": "code",
      "execution_count": null,
      "metadata": {
        "colab": {
          "base_uri": "https://localhost:8080/"
        },
        "id": "foFhclMSLppm",
        "outputId": "aaa1e949-d69c-4136-e483-56442a5a6cb8"
      },
      "outputs": [
        {
          "output_type": "stream",
          "name": "stdout",
          "text": [
            "    Nombre   Profesion            Pais\n",
            "0      Ana   Ingeniera          México\n",
            "1   Carlos      Médico       Argentina\n",
            "2   Sophia  Diseñadora  Estados Unidos\n",
            "3     Noah  Arquitecto          Canadá\n",
            "4     Emma     Abogada   Nueva Zelanda\n",
            "5    Juana  Periodista          España\n",
            "6   Camilo  Empresario        Colombia\n",
            "7  Antonio    Profesor           Chile\n"
          ]
        }
      ],
      "source": [
        "#Creación de DataFrame con el nombre, profesión y país de 10 personas\n",
        "\n",
        "import pandas as pd\n",
        "\n",
        "data = {\n",
        "  'Nombre': ['Ana', 'Carlos', 'Sophia', 'Noah', 'Emma', 'Juana', 'Camilo', 'Antonio'],\n",
        "  'Profesion': ['Ingeniera', 'Médico', 'Diseñadora', 'Arquitecto', 'Abogada', 'Periodista', 'Empresario', 'Profesor'],\n",
        "  'Pais': ['México', 'Argentina', 'Estados Unidos', 'Canadá', 'Nueva Zelanda', 'España', 'Colombia', 'Chile']\n",
        "}\n",
        "\n",
        "df = pd.DataFrame (data)\n",
        "print(df)\n"
      ]
    },
    {
      "cell_type": "code",
      "source": [
        "#Carga de un archivo CSV\n",
        "\n",
        "import pandas as pd\n",
        "\n",
        "#Cargar el archivo CSV\n",
        "df = pd.read_csv('data.csv')\n",
        "\n",
        "#Mostrar las 5 primeras filas del DataFrame\n",
        "print(df.head())"
      ],
      "metadata": {
        "colab": {
          "base_uri": "https://localhost:8080/"
        },
        "id": "jDhI0W0wOvYm",
        "outputId": "fe533d6a-8e51-4498-c7b5-6cb1de01ebb9"
      },
      "execution_count": 3,
      "outputs": [
        {
          "output_type": "stream",
          "name": "stdout",
          "text": [
            "   Duracion  Pulso  Maxpulso  Calorias\n",
            "0        60    110       130     409.1\n",
            "1        60    117       145     479.0\n",
            "2        60    103       135     340.0\n",
            "3        45    109       175     282.4\n",
            "4        45    117       148     406.0\n"
          ]
        }
      ]
    },
    {
      "cell_type": "code",
      "source": [
        "#DataFrame con 100 filas y 8 columnas aleatorias\n",
        "\n",
        "import pandas as pd\n",
        "import numpy as np\n",
        "print(np)\n",
        "df = pd.DataFrame (np.random.randn(100, 8))\n",
        "print(df.describe())"
      ],
      "metadata": {
        "colab": {
          "base_uri": "https://localhost:8080/"
        },
        "id": "rQzp1zDRPoWu",
        "outputId": "55696c92-4ba2-4eec-dedc-bbfc02d33339"
      },
      "execution_count": null,
      "outputs": [
        {
          "output_type": "stream",
          "name": "stdout",
          "text": [
            "<module 'numpy' from '/usr/local/lib/python3.10/dist-packages/numpy/__init__.py'>\n",
            "                0           1           2           3           4           5  \\\n",
            "count  100.000000  100.000000  100.000000  100.000000  100.000000  100.000000   \n",
            "mean     0.027538    0.105077    0.019476   -0.033440   -0.040977   -0.244564   \n",
            "std      0.897934    1.105932    0.959472    0.896937    1.004736    1.032025   \n",
            "min     -2.020607   -3.248576   -2.648812   -2.594521   -2.746259   -3.077017   \n",
            "25%     -0.691287   -0.597460   -0.726401   -0.686862   -0.781556   -0.913077   \n",
            "50%      0.096241    0.244043   -0.063900    0.016381    0.079445   -0.264818   \n",
            "75%      0.566358    0.741001    0.667478    0.509284    0.731910    0.463761   \n",
            "max      2.373552    2.680627    2.368358    1.979121    2.387295    2.687679   \n",
            "\n",
            "                6           7  \n",
            "count  100.000000  100.000000  \n",
            "mean    -0.072454    0.227404  \n",
            "std      1.000780    0.923822  \n",
            "min     -2.878697   -2.666018  \n",
            "25%     -0.763218   -0.306880  \n",
            "50%     -0.062240    0.291499  \n",
            "75%      0.564709    0.797299  \n",
            "max      2.548569    3.103524  \n"
          ]
        }
      ]
    },
    {
      "cell_type": "markdown",
      "source": [
        "#Parte 2"
      ],
      "metadata": {
        "id": "yxwMFDT3Q0qP"
      }
    },
    {
      "cell_type": "code",
      "source": [
        "#Array de números del 1 al 10, mostrando la suma, la media y el valor máximo\n",
        "\n",
        "import numpy as np\n",
        "arr = np.arange(1, 11)\n",
        "print('Array:', arr)\n",
        "print('Suma:', arr.sum())\n",
        "print('Media:', arr.mean())\n",
        "print('Máximo:', arr.max())\n"
      ],
      "metadata": {
        "colab": {
          "base_uri": "https://localhost:8080/"
        },
        "id": "DfrfuVzuQ2TA",
        "outputId": "495a516a-7250-4bf0-973e-02a03bf52f23"
      },
      "execution_count": null,
      "outputs": [
        {
          "output_type": "stream",
          "name": "stdout",
          "text": [
            "Array: [ 1  2  3  4  5  6  7  8  9 10]\n",
            "Suma: 55\n",
            "Media: 5.5\n",
            "Máximo: 10\n"
          ]
        }
      ]
    },
    {
      "cell_type": "code",
      "source": [
        "#Array de 3x4, lleno de ceros y array redimensionado de 2x6\n",
        "\n",
        "import numpy as np\n",
        "arr = np.zeros((3,4))\n",
        "print('Array original (3x4):')\n",
        "print(arr)\n",
        "print()\n",
        "\n",
        "#Cambiar forma\n",
        "arr_reshaped = arr.reshape((2,6))\n",
        "print('Array redimensionado (2x6):')\n",
        "print(arr_reshaped)"
      ],
      "metadata": {
        "colab": {
          "base_uri": "https://localhost:8080/"
        },
        "id": "K9NbueknSCA8",
        "outputId": "2eec7341-5adb-4f2e-e5c2-1047ed241705"
      },
      "execution_count": null,
      "outputs": [
        {
          "output_type": "stream",
          "name": "stdout",
          "text": [
            "Array original (3x4):\n",
            "[[0. 0. 0. 0.]\n",
            " [0. 0. 0. 0.]\n",
            " [0. 0. 0. 0.]]\n",
            "\n",
            "Array redimensionado (2x6):\n",
            "[[0. 0. 0. 0. 0. 0.]\n",
            " [0. 0. 0. 0. 0. 0.]]\n"
          ]
        }
      ]
    },
    {
      "cell_type": "code",
      "source": [
        "#Matriz aleatoria de 3x3 y su transpuesta\n",
        "\n",
        "import numpy as np\n",
        "arr = np.random.rand(3,3)\n",
        "print('Matriz original:')\n",
        "print(arr)\n",
        "print()\n",
        "\n",
        "#Calcular la transpuesta\n",
        "arr_transpuesta = arr.T\n",
        "print('Matriz transpuesta:')\n",
        "print(arr_transpuesta)\n"
      ],
      "metadata": {
        "colab": {
          "base_uri": "https://localhost:8080/"
        },
        "id": "0r1aGeFtT14-",
        "outputId": "4e6e581d-3212-4372-ab13-8b1a74751318"
      },
      "execution_count": null,
      "outputs": [
        {
          "output_type": "stream",
          "name": "stdout",
          "text": [
            "Matriz original:\n",
            "[[0.778234   0.2662372  0.14941602]\n",
            " [0.69925377 0.93853742 0.39682493]\n",
            " [0.44093519 0.27433925 0.9931884 ]]\n",
            "\n",
            "Matriz transpuesta:\n",
            "[[0.778234   0.69925377 0.44093519]\n",
            " [0.2662372  0.93853742 0.27433925]\n",
            " [0.14941602 0.39682493 0.9931884 ]]\n"
          ]
        }
      ]
    },
    {
      "cell_type": "code",
      "source": [
        "#Concatenar dos arrays de NumPy\n",
        "\n",
        "import numpy as np\n",
        "import pandas as pd\n",
        "a = np.array([1,2,3,4,5])\n",
        "b = np.array([6,7,8,9,10])\n",
        "array_concatenado = np.concatenate((a, b))\n",
        "print('Array concatenado:', array_concatenado)"
      ],
      "metadata": {
        "colab": {
          "base_uri": "https://localhost:8080/"
        },
        "id": "85TTabzsU2wc",
        "outputId": "d8f66b0b-a6bf-4ba1-d5ae-a231e1cb59bf"
      },
      "execution_count": null,
      "outputs": [
        {
          "output_type": "stream",
          "name": "stdout",
          "text": [
            "Array concatenado: [ 1  2  3  4  5  6  7  8  9 10]\n"
          ]
        }
      ]
    }
  ]
}